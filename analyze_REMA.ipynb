{
 "cells": [
  {
   "cell_type": "markdown",
   "metadata": {},
   "source": [
    "# Pangeo REMA Example\n",
    "\n",
    "Data live in Google Cloud Storage region `US-CENTRAL-1`.\n",
    "\n",
    "Files have been encoded as COGs. The URLs have the format:\n",
    "\n",
    "`https://storage.googleapis.com/pangeo-pgc/8m/{row}_{col}/{row}_{col}_8m_dem_COG_LZW.tif`\n",
    "\n",
    "### Create Dask Cluster for Parallel Processing"
   ]
  },
  {
   "cell_type": "code",
   "execution_count": null,
   "metadata": {},
   "outputs": [],
   "source": [
    "from dask.distributed import Client\n",
    "from dask_kubernetes import KubeCluster\n",
    "\n",
    "cluster = KubeCluster(n_workers=10)\n",
    "client = Client(cluster)\n",
    "cluster"
   ]
  },
  {
   "cell_type": "code",
   "execution_count": null,
   "metadata": {},
   "outputs": [],
   "source": [
    "import numpy as np\n",
    "import xarray as xr\n",
    "import hvplot.xarray\n",
    "from matplotlib import pyplot as plt\n",
    "from rasterio import RasterioIOError\n",
    "from tqdm.autonotebook import tqdm\n",
    "%matplotlib inline"
   ]
  },
  {
   "cell_type": "markdown",
   "metadata": {},
   "source": [
    "### Load a range of 8m images (lazily)"
   ]
  },
  {
   "cell_type": "code",
   "execution_count": null,
   "metadata": {},
   "outputs": [],
   "source": [
    "uri_fmt = 'https://storage.googleapis.com/pangeo-pgc/8m/{i_idx:02d}_{j_idx:02d}/{i_idx:02d}_{j_idx:02d}_8m_dem_COG_LZW.tif'\n",
    "\n",
    "chunksize = 8 * 512\n",
    "rows = []\n",
    "for i in tqdm(range(23, 16, -1)):\n",
    "    cols = []\n",
    "    for j in range(22, 34):\n",
    "        uri = uri_fmt.format(i_idx=i, j_idx=j)\n",
    "        try:\n",
    "            dset = xr.open_rasterio(uri, chunks=chunksize)\n",
    "            dset_masked = dset.where(dset > 0.0)\n",
    "            cols.append(dset_masked)\n",
    "            #print(uri)\n",
    "        except RasterioIOError:\n",
    "            pass\n",
    "    rows.append(cols)"
   ]
  },
  {
   "cell_type": "code",
   "execution_count": null,
   "metadata": {},
   "outputs": [],
   "source": [
    "[len(r) for r in rows]"
   ]
  },
  {
   "cell_type": "markdown",
   "metadata": {},
   "source": [
    "### Concat into a single huge Xarray dataset"
   ]
  },
  {
   "cell_type": "code",
   "execution_count": null,
   "metadata": {},
   "outputs": [],
   "source": [
    "dsets_rows = [xr.concat(row, 'x') for row in rows]\n",
    "ds = xr.concat(dsets_rows, 'y', )\n",
    "ds"
   ]
  },
  {
   "cell_type": "markdown",
   "metadata": {},
   "source": [
    "### \"Persist\" -- load into cluster memory"
   ]
  },
  {
   "cell_type": "code",
   "execution_count": null,
   "metadata": {},
   "outputs": [],
   "source": [
    "dsp = ds.persist()\n",
    "data = dsp[0].data\n",
    "data"
   ]
  },
  {
   "cell_type": "markdown",
   "metadata": {},
   "source": [
    "### Calculate some averages over 100x100 pixel chunks"
   ]
  },
  {
   "cell_type": "code",
   "execution_count": null,
   "metadata": {},
   "outputs": [],
   "source": [
    "elev_mean = dsp.coarsen(x=100, y=100).mean().load()\n",
    "elev_std = dsp.coarsen(x=100, y=100).std().load()"
   ]
  },
  {
   "cell_type": "code",
   "execution_count": null,
   "metadata": {},
   "outputs": [],
   "source": [
    "elev_mean.plot(figsize=(16, 6))\n",
    "plt.title('Mean Eleveation');"
   ]
  },
  {
   "cell_type": "code",
   "execution_count": null,
   "metadata": {},
   "outputs": [],
   "source": [
    "plt.title('Eleveation Standard Deviation');\n",
    "np.log(elev_std).plot(figsize=(16, 6), vmax=2)"
   ]
  },
  {
   "cell_type": "code",
   "execution_count": null,
   "metadata": {},
   "outputs": [],
   "source": []
  }
 ],
 "metadata": {
  "kernelspec": {
   "display_name": "Python 3",
   "language": "python",
   "name": "python3"
  },
  "language_info": {
   "codemirror_mode": {
    "name": "ipython",
    "version": 3
   },
   "file_extension": ".py",
   "mimetype": "text/x-python",
   "name": "python",
   "nbconvert_exporter": "python",
   "pygments_lexer": "ipython3",
   "version": "3.7.3"
  }
 },
 "nbformat": 4,
 "nbformat_minor": 4
}
